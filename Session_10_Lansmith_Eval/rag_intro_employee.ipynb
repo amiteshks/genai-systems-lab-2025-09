{
 "cells": [
  {
   "cell_type": "markdown",
   "id": "865d6195",
   "metadata": {},
   "source": []
  },
  {
   "cell_type": "code",
   "execution_count": null,
   "id": "75fd629b",
   "metadata": {},
   "outputs": [
    {
     "data": {
      "text/plain": [
       "[\"John's pay is processed on the 1st of every month.\",\n",
       " 'Mark is on a leave of absence until next Monday.',\n",
       " 'Julie is a software engineer.',\n",
       " \"Julie's pay is processed on the 1st of every month.\",\n",
       " 'Mark is a product manager.',\n",
       " 'John is an AI architect and has salary of 500K USD.']"
      ]
     },
     "execution_count": 48,
     "metadata": {},
     "output_type": "execute_result"
    }
   ],
   "source": [
    "\n",
    "# Step 1: Define Sample Documents\n",
    "documents = [\n",
    "    {\"section\": \"Employee Info\", \"content\": \"John's pay is processed on the 1st of every month.\"},\n",
    "    {\"section\": \"Employee Info\", \"content\": \"Mark is on a leave of absence until next Monday.\"},\n",
    "    {\"section\": \"Employee Info\", \"content\": \"Julie is a software engineer.\"},\n",
    "    {\"section\": \"Employee Info\", \"content\": \"Julie's pay is processed on the 1st of every month.\"},\n",
    "    {\"section\": \"Employee Info\", \"content\": \"Mark is a product manager.\"},\n",
    "    {\"section\": \"Employee Info\", \"content\": \"John is an AI architect and has salary of 500K USD.\"},\n",
    "]\n",
    "\n",
    "# Step 2: Get Content Texts\n",
    "content_corpus = [doc[\"content\"] for doc in documents]\n",
    "content_corpus\n",
    "\n",
    "from sentence_transformers import SentenceTransformer\n",
    "\n",
    "model = SentenceTransformer(\"all-MiniLM-L6-v2\")\n",
    "doc_vectors = model.encode(content_corpus)\n",
    "\n",
    "doc_vectors\n",
    "print(doc_vectors.shape)\n"
   ]
  },
  {
   "cell_type": "code",
   "execution_count": 64,
   "id": "8d5c5714",
   "metadata": {},
   "outputs": [
    {
     "data": {
      "text/plain": [
       "([\"John's pay is processed on the 1st of every month.\",\n",
       "  'John is an AI architect and has salary of 500K USD.',\n",
       "  'Mark is a product manager.'],\n",
       " \"John's pay is processed on the 1st of every month.\\n---\\nJohn is an AI architect and has salary of 500K USD.\\n---\\nMark is a product manager.\")"
      ]
     },
     "execution_count": 64,
     "metadata": {},
     "output_type": "execute_result"
    }
   ],
   "source": [
    "# Step 3: User Query and Semantic Matching\n",
    "import numpy as np\n",
    "\n",
    "query = \"Tell me about John's role.\"\n",
    "query_vec = model.encode([query])[0]\n",
    "# query_vec\n",
    "\n",
    "\n",
    "similarities = model.similarity(query_vec, doc_vectors)\n",
    "\n",
    "# Ensure it's a 1D numpy array\n",
    "similarities = np.asarray(similarities).squeeze()\n",
    "\n",
    "# Now get top 3\n",
    "top_3_indices = np.argsort(similarities)[::-1][:3]\n",
    "top_scores = similarities[top_3_indices]\n",
    "top_scores\n",
    "\n",
    "top_docs = [documents[i]['content'] for i in top_3_indices]\n",
    "\n",
    "top_docs\n",
    "context = \"\\n---\\n\".join(top_docs)\n",
    "top_docs, context"
   ]
  },
  {
   "cell_type": "code",
   "execution_count": 65,
   "id": "ed37ac4a",
   "metadata": {},
   "outputs": [],
   "source": [
    "import os\n",
    "from dotenv import load_dotenv\n",
    "from openai import OpenAI\n",
    "\n",
    "load_dotenv(override=True, dotenv_path=\"../.env\")\n",
    "my_api_key = os.getenv(\"OPEN_AI_API_KEY\")\n",
    "\n",
    "my_client = OpenAI(api_key=my_api_key)\n",
    "# my_client\n",
    "\n",
    "def ask_question_open_ai(prompt, context=''):\n",
    "    \"\"\"Call the LLM with the provided prompt and context.\n",
    "\n",
    "    IMPORTANT: use the passed-in prompt (not a global variable) so each\n",
    "    evaluation example can be answered correctly.\n",
    "    \"\"\"\n",
    "    llm_response = my_client.chat.completions.create(\n",
    "        model=\"gpt-5-nano\",\n",
    "        messages=[\n",
    "            {\"role\": \"system\", \"content\": '''\n",
    "             You are an assistant who answers only based on the given context.\n",
    "             '''},\n",
    "            {\"role\": \"user\", \"content\": f\"Context: {context}\\n\\nUser Question: {prompt}\"}\n",
    "        ]\n",
    "\n",
    "    )\n",
    "    return llm_response.choices[0].message.content\n"
   ]
  },
  {
   "cell_type": "code",
   "execution_count": 69,
   "id": "c7b59025",
   "metadata": {},
   "outputs": [
    {
     "name": "stdout",
     "output_type": "stream",
     "text": [
      "Tell me about John's role.\n"
     ]
    },
    {
     "data": {
      "text/plain": [
       "'John is an AI architect.'"
      ]
     },
     "execution_count": 69,
     "metadata": {},
     "output_type": "execute_result"
    }
   ],
   "source": [
    "print (query)\n",
    "response = ask_question_open_ai(query, context)\n",
    "\n",
    "response"
   ]
  },
  {
   "cell_type": "markdown",
   "id": "0944d889",
   "metadata": {},
   "source": [
    "#### Create a LangSmith Dataset"
   ]
  },
  {
   "cell_type": "code",
   "execution_count": 70,
   "id": "2be327d6",
   "metadata": {},
   "outputs": [
    {
     "name": "stdout",
     "output_type": "stream",
     "text": [
      " Dataset 'Employee-Info-QA-Dataset_3' created with 4 examples.\n"
     ]
    }
   ],
   "source": [
    "from langsmith import Client\n",
    "\n",
    "client = Client()\n",
    "\n",
    "dataset_name = \"Employee-Info-QA-Dataset_3\"\n",
    "dataset = client.create_dataset(dataset_name=dataset_name)\n",
    "\n",
    "examples = [\n",
    "    {\"input\": \"When is John's pay processed?\", \"output\": \"John's pay is processed on the 1st of every month.\"},\n",
    "    {\"input\": \"What is Julie's job title?\", \"output\": \"Julie is a software engineer.\"},\n",
    "    {\"input\": \"What is John's salary?\", \"output\": \"John has a salary of 500K USD.\"},\n",
    "    {\"input\": \"What is Mark's current work status?\", \"output\": \"Mark is on a leave of absence until next Monday.\"},\n",
    "]\n",
    "\n",
    "for ex in examples:\n",
    "    client.create_example(inputs={\"question\": ex[\"input\"]}, outputs={\"answer\": ex[\"output\"]}, dataset_id=dataset.id)\n",
    "\n",
    "print(f\" Dataset '{dataset_name}' created with {len(examples)} examples.\")\n"
   ]
  },
  {
   "cell_type": "markdown",
   "id": "a985c735",
   "metadata": {},
   "source": [
    "##### Run LangSmith Evaluation"
   ]
  },
  {
   "cell_type": "code",
   "execution_count": 71,
   "id": "00fe32c3",
   "metadata": {},
   "outputs": [],
   "source": [
    "# %pip install --upgrade --no-cache-dir langsmith\n",
    "\n",
    "# import langsmith\n",
    "# print(langsmith.__version__)"
   ]
  },
  {
   "cell_type": "code",
   "execution_count": 72,
   "id": "95241bf5",
   "metadata": {},
   "outputs": [],
   "source": [
    "# !pip index versions langsmith"
   ]
  },
  {
   "cell_type": "code",
   "execution_count": 80,
   "id": "c70a5e44",
   "metadata": {},
   "outputs": [],
   "source": [
    "from langsmith.evaluation import evaluate, RunEvaluator\n",
    "\n",
    "from langsmith.evaluation import RunEvaluator\n",
    "from openai import OpenAI\n",
    "import os\n",
    "\n",
    "class SimpleCorrectness(RunEvaluator):\n",
    "    \"\"\"Use an LLM to evaluate correctness of prediction vs reference.\"\"\"\n",
    "\n",
    "    def evaluate_run(self, run, example, **kwargs):\n",
    "        ref = example.outputs.get(\"answer\", \"\").strip()\n",
    "        pred = run.outputs.get(\"answer\", \"\").strip()\n",
    "\n",
    "        if not ref or not pred:\n",
    "            return {\n",
    "                \"key\": \"correctness\",\n",
    "                \"score\": 0.0,\n",
    "                \"explanation\": \"Missing reference or prediction\"\n",
    "            }\n",
    "\n",
    "        # Replace substring match with LLM call\n",
    "        score, reason = self.llm_judge(ref, pred, example.inputs.get(\"question\", \"\"))\n",
    "\n",
    "        return {\n",
    "            \"key\": \"correctness\",\n",
    "            \"score\": score,\n",
    "            \"explanation\": reason\n",
    "        }\n",
    "\n",
    "    # Separate LLM evaluation logic\n",
    "    def llm_judge(self, reference: str, prediction: str, question: str = \"\"):\n",
    "        \"\"\"Ask the LLM to grade the prediction against the reference.\"\"\"\n",
    "        client = OpenAI(api_key=os.getenv(\"OPENAI_API_KEY\"))\n",
    "\n",
    "        system_prompt = (\n",
    "            \"You are an impartial evaluator that rates how correct a model's answer is \"\n",
    "            \"compared to a ground truth reference. \"\n",
    "            \"Respond with a numeric score between 0 and 1, where 1 = fully correct, 0 = incorrect.\"\n",
    "        )\n",
    "\n",
    "        user_prompt = f\"\"\"\n",
    "        Question: {question}\n",
    "        Reference answer: {reference}\n",
    "        Model prediction: {prediction}\n",
    "\n",
    "        Rate correctness (0–1). Then briefly justify your score.\n",
    "        Return your answer in JSON as:\n",
    "        {{\"score\": <number>, \"reason\": \"<short explanation>\"}}.\n",
    "        \"\"\"\n",
    "\n",
    "        resp = client.chat.completions.create(\n",
    "            model=\"gpt-4o-mini\",\n",
    "            temperature=0,\n",
    "            messages=[\n",
    "                {\"role\": \"system\", \"content\": system_prompt},\n",
    "                {\"role\": \"user\", \"content\": user_prompt},\n",
    "            ],\n",
    "        )\n",
    "\n",
    "        content = resp.choices[0].message.content.strip()\n",
    "        score, reason = 0.0, \"Unparsed LLM response\"\n",
    "\n",
    "        # Try to extract score/reason if JSON-like\n",
    "        import json, re\n",
    "        try:\n",
    "            if \"{\" in content:\n",
    "                parsed = json.loads(content)\n",
    "                score = float(parsed.get(\"score\", 0))\n",
    "                reason = parsed.get(\"reason\", reason)\n",
    "            else:\n",
    "                # Fallback: parse first number\n",
    "                num_match = re.search(r\"([01](?:\\.\\d+)?)\", content)\n",
    "                if num_match:\n",
    "                    score = float(num_match.group(1))\n",
    "                reason = content\n",
    "        except Exception as e:\n",
    "            reason = f\"Parse error: {e}. Raw: {content}\"\n",
    "\n",
    "        # Clamp score to [0, 1]\n",
    "        score = max(0.0, min(1.0, score))\n",
    "        return score, reason\n",
    "\n",
    "# Instantiate the evaluator\n",
    "simple_correctness = SimpleCorrectness()\n"
   ]
  },
  {
   "cell_type": "code",
   "execution_count": 81,
   "id": "a3d89eef",
   "metadata": {},
   "outputs": [],
   "source": [
    "\n",
    "# Define your target function that performs retrieval per-question\n",
    "def ask_question(inputs):\n",
    "    question = inputs[\"question\"]\n",
    "    # compute embedding for the question\n",
    "    query_vec = model.encode([question])[0]\n",
    "\n",
    "    # compute cosine similarities between query and doc_vectors\n",
    "    import numpy as np\n",
    "    q_norm = np.linalg.norm(query_vec) + 1e-8\n",
    "    doc_norms = np.linalg.norm(doc_vectors, axis=1) + 1e-8\n",
    "    sims = np.dot(doc_vectors, query_vec) / (doc_norms * q_norm)\n",
    "\n",
    "    # pick top-3 supporting docs and build context\n",
    "    top_3_indices = np.argsort(sims)[::-1][:3]\n",
    "    top_docs = [content_corpus[i] for i in top_3_indices]\n",
    "    context = \"\\n---\\n\".join(top_docs)\n",
    "\n",
    "    # call LLM with question and its retrieved context\n",
    "    answer = ask_question_open_ai(question, context)\n",
    "    return {\"answer\": answer}\n"
   ]
  },
  {
   "cell_type": "code",
   "execution_count": null,
   "id": "65865a29",
   "metadata": {},
   "outputs": [
    {
     "name": "stdout",
     "output_type": "stream",
     "text": [
      "View the evaluation results for experiment: 'langsmith_eval_test-890e4da5' at:\n",
      "https://smith.langchain.com/o/79133fd6-316c-4b99-b886-38847131d1e1/datasets/e46dc4f2-57e6-4bbc-971b-5ddfb58ad91c/compare?selectedSessions=239cddfc-0fbd-4cbd-9ac9-b6343bd069f3\n",
      "\n",
      "\n"
     ]
    },
    {
     "name": "stderr",
     "output_type": "stream",
     "text": [
      "0it [00:00, ?it/s]"
     ]
    }
   ],
   "source": [
    "\n",
    "# Run evaluation\n",
    "results = evaluate(\n",
    "    ask_question,\n",
    "    data=\"Employee-Info-QA-Dataset_2\",\n",
    "    evaluators=[simple_correctness],\n",
    "    experiment_prefix=\"langsmith_eval_test\",\n",
    ")\n"
   ]
  },
  {
   "cell_type": "code",
   "execution_count": null,
   "id": "851a66ae",
   "metadata": {},
   "outputs": [
    {
     "name": "stdout",
     "output_type": "stream",
     "text": [
      "\n",
      " Question: What is Mark's current work status?\n",
      "Expected: Mark is on a leave of absence until next Monday.\n",
      "Predicted: Mark is currently on a leave of absence until next Monday.\n",
      "Evaluator: correctness, Score: 0.0, Explanation: None\n",
      "\n",
      " Question: What is John's salary?\n",
      "Expected: John has a salary of 500K USD.\n",
      "Predicted: John's salary is 500K USD (500,000 USD).\n",
      "Evaluator: correctness, Score: 0.0, Explanation: None\n",
      "\n",
      " Question: What is Julie's job title?\n",
      "Expected: Julie is a software engineer.\n",
      "Predicted: Software engineer.\n",
      "Evaluator: correctness, Score: 0.0, Explanation: None\n",
      "\n",
      " Question: When is John's pay processed?\n",
      "Expected: John's pay is processed on the 1st of every month.\n",
      "Predicted: John's pay is processed on the 1st of every month.\n",
      "Evaluator: correctness, Score: 1.0, Explanation: None\n"
     ]
    }
   ],
   "source": [
    "for r in results:   # each r is a dict\n",
    "    example = r[\"example\"]\n",
    "    eval_results = r[\"evaluation_results\"][\"results\"]\n",
    "\n",
    "    print(f\"\\n Question: {example.inputs['question']}\")\n",
    "    print(f\"Expected: {example.outputs['answer']}\")\n",
    "\n",
    "    # Extract model output\n",
    "    run = r[\"run\"]\n",
    "    if hasattr(run, \"outputs\") and \"answer\" in run.outputs:\n",
    "        print(f\"Predicted: {run.outputs['answer']}\")\n",
    "    else:\n",
    "        print(\"Predicted: (no output found)\")\n",
    "\n",
    "    # Print evaluator results\n",
    "    for e in eval_results:\n",
    "        print(f\"Evaluator: {e.key}, Score: {e.score}, Explanation: {getattr(e, 'explanation', None)}\")\n"
   ]
  },
  {
   "cell_type": "code",
   "execution_count": null,
   "id": "b1a93ac0",
   "metadata": {},
   "outputs": [],
   "source": []
  }
 ],
 "metadata": {
  "kernelspec": {
   "display_name": ".venv",
   "language": "python",
   "name": "python3"
  },
  "language_info": {
   "codemirror_mode": {
    "name": "ipython",
    "version": 3
   },
   "file_extension": ".py",
   "mimetype": "text/x-python",
   "name": "python",
   "nbconvert_exporter": "python",
   "pygments_lexer": "ipython3",
   "version": "3.13.5"
  }
 },
 "nbformat": 4,
 "nbformat_minor": 5
}
