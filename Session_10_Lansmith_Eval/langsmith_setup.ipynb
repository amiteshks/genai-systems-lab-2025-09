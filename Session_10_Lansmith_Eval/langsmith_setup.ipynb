{
 "cells": [
  {
   "cell_type": "markdown",
   "id": "c50f6fa7",
   "metadata": {},
   "source": [
    "## 1. LangSmith Setup\n",
    "\n",
    "#### Add these entries to your `.env` file\n",
    "```bash\n",
    "# LangSmith Environment Configuration\n",
    "LANGCHAIN_PROJECT=\"Langsmith_Eval\"\n",
    "LANGCHAIN_TRACING_V2=true\n",
    "LANGCHAIN_ENDPOINT=\"https://api.smith.langchain.com\"\n",
    "LANGCHAIN_API_KEY=<your_langsmith_api_key_here>\n"
   ]
  },
  {
   "cell_type": "code",
   "execution_count": 2,
   "id": "a8d9b0f6",
   "metadata": {},
   "outputs": [],
   "source": [
    "# 2. Install Required Packages\n",
    "# %pip install langchain langsmith openai python-dotenv"
   ]
  },
  {
   "cell_type": "code",
   "execution_count": 8,
   "id": "73592f47",
   "metadata": {},
   "outputs": [],
   "source": [
    "import os\n",
    "from dotenv import load_dotenv\n",
    "from langchain_openai import ChatOpenAI\n",
    "from langsmith import traceable # Need to enable tracing on LangSmith\n",
    "\n",
    "\n",
    "# --- Setup ---\n",
    "load_dotenv(override=True)\n",
    "my_api_key = os.getenv(\"OPENAI_API_KEY\")\n",
    "\n",
    "# Initialize model\n",
    "llm = ChatOpenAI(model=\"gpt-5-nano\", api_key=my_api_key)\n",
    "\n",
    "\n",
    "# --- Function under test ---\n",
    "@traceable # Enable tracing for this function on LangSmith - Only one line change\n",
    "def ask_question(user_prompt) -> str:\n",
    "    \"\"\"LLM function under test.\"\"\"\n",
    "    # If LangSmith passes a dict, extract the actual string\n",
    "    if isinstance(user_prompt, dict):\n",
    "        user_prompt = user_prompt.get(\"input\", \"\")\n",
    "\n",
    "    system_msg = \"You are a helpful assistant. Provide answer in one line.\"\n",
    "    response = llm.invoke(\n",
    "        [\n",
    "            {\"role\": \"system\", \"content\": system_msg},\n",
    "            {\"role\": \"user\", \"content\": user_prompt},\n",
    "        ]\n",
    "    )\n",
    "    \n",
    "    return response.content"
   ]
  },
  {
   "cell_type": "code",
   "execution_count": 9,
   "id": "3cf9eecf",
   "metadata": {},
   "outputs": [
    {
     "data": {
      "text/plain": [
       "'In Paris, France, on the Right Bank of the Seine at 99 Rue de Rivoli (75001).'"
      ]
     },
     "execution_count": 9,
     "metadata": {},
     "output_type": "execute_result"
    }
   ],
   "source": [
    "ask_question(\"Where is the mueseum Louvre?\")"
   ]
  },
  {
   "cell_type": "markdown",
   "id": "b65f30da",
   "metadata": {},
   "source": [
    "#### You should see your project being tracked at [https://smith.langchain.com/](https://smith.langchain.com/)"
   ]
  },
  {
   "cell_type": "markdown",
   "id": "9a6004d7",
   "metadata": {},
   "source": [
    "## 2. LangSmith DataSets"
   ]
  },
  {
   "cell_type": "code",
   "execution_count": 1,
   "id": "4aef0ba3",
   "metadata": {},
   "outputs": [
    {
     "name": "stdout",
     "output_type": "stream",
     "text": [
      " Dataset created: LangSmith-QA-Dataset\n"
     ]
    }
   ],
   "source": [
    "from langsmith import Client\n",
    "\n",
    "\n",
    "client = Client()\n",
    "dataset = client.create_dataset(dataset_name=\"LangSmith-QA-Dataset\")\n",
    "\n",
    "\n",
    "examples = [\n",
    "{\"inputs\": {\"question\": \"What is LangChain?\"}, \"outputs\": {\"answer\": \"A framework to build LLM-powered apps.\"}},\n",
    "{\"inputs\": {\"question\": \"What is LangSmith?\"}, \"outputs\": {\"answer\": \"A platform for tracing and evaluating LLM applications.\"}},\n",
    "]\n",
    "\n",
    "\n",
    "for ex in examples:\n",
    "    client.create_example(inputs=ex[\"inputs\"], outputs=ex[\"outputs\"], dataset_id=dataset.id)\n",
    "\n",
    "print(\" Dataset created:\", dataset.name)"
   ]
  }
 ],
 "metadata": {
  "kernelspec": {
   "display_name": ".venv",
   "language": "python",
   "name": "python3"
  },
  "language_info": {
   "codemirror_mode": {
    "name": "ipython",
    "version": 3
   },
   "file_extension": ".py",
   "mimetype": "text/x-python",
   "name": "python",
   "nbconvert_exporter": "python",
   "pygments_lexer": "ipython3",
   "version": "3.13.5"
  }
 },
 "nbformat": 4,
 "nbformat_minor": 5
}
