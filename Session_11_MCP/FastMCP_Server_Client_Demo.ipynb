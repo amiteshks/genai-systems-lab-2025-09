{
  "cells": [
    {
      "cell_type": "markdown",
      "metadata": {},
      "source": [
        "# MCP Server & Client Implementation Using Fastmcp \n",
        "\n",
        "---\n",
        "## Architecture\n",
        "\n",
        "LLM Host (MCP Client)  <—— JSON-RPC ——>  fastmcp Server  <——> CSV Dataset\n",
        "\n",
        "\n",
        "We'll:\n",
        "1. Launch a server exposing two tools (`summarize`, `query`).\n",
        "2. Use an MCP Client to discover and call those tools.\n",
        "3. Simulate a host (agent) deciding which tool to call.\n",
        "---\n",
        "## Start the MCP Server\n",
        "\n",
        "In a separate terminal, run:\n",
        "```bash\n",
        "python mcp_server_fastmcp.py\n",
        "```\n",
        "This starts an MCP-compliant server exposing `summarize` and `query` tools.\n",
        "\n",
        "---\n"
      ]
    },
    {
      "cell_type": "markdown",
      "id": "08bd5a75",
      "metadata": {},
      "source": [
        "### 1. Install dependencies"
      ]
    },
    {
      "cell_type": "code",
      "execution_count": 2,
      "id": "2193b442",
      "metadata": {},
      "outputs": [],
      "source": [
        "\n",
        "# %pip install fastmcp pandas langchain openai uvicorn --upgrade --no-cache-dir"
      ]
    },
    {
      "cell_type": "markdown",
      "metadata": {},
      "source": [
        "## Connect via MCP Client\n",
        "\n",
        "Once the server is running, connect using the MCP client to list tools and invoke them."
      ]
    },
    {
      "cell_type": "code",
      "execution_count": 28,
      "metadata": {},
      "outputs": [
        {
          "name": "stdout",
          "output_type": "stream",
          "text": [
            "Tools: ['summarize', 'query']\n"
          ]
        }
      ],
      "source": [
        "from fastmcp import Client\n",
        "from fastmcp.client import PythonStdioTransport\n",
        "import asyncio\n",
        "\n",
        "async def main():\n",
        "    transport = PythonStdioTransport(\"mcp_server_fastmcp.py\")\n",
        "    async with Client(transport) as client:\n",
        "        tools = await client.list_tools()\n",
        "        print(\"Tools:\", [t.name for t in tools])\n",
        "\n",
        "await main()\n"
      ]
    },
    {
      "cell_type": "markdown",
      "metadata": {},
      "source": [
        "## Simulate a Simple Host Agent\n",
        "Let's simulate a rule-based 'AI agent' that decides whether to use `summarize` or `query` based on user text."
      ]
    },
    {
      "cell_type": "code",
      "execution_count": 29,
      "metadata": {},
      "outputs": [],
      "source": [
        "def decide_tool(text: str):\n",
        "    text = text.lower()\n",
        "    if \"summarize\" in text or \"overview\" in text:\n",
        "        return \"summarize\", {}\n",
        "    if \"west\" in text:\n",
        "        return \"query\", {\"expr\": \"region == 'West' and sales > 1500\"}\n",
        "    return \"summarize\", {}\n",
        "\n",
        "async def run_agent(user_input, client):\n",
        "    tool, params = decide_tool(user_input)\n",
        "    print(f\"Agent decided to use '{tool}'\")\n",
        "\n",
        "    # API for fastmcp 2.12.5\n",
        "    result = await client.call_tool(tool, params)\n",
        "\n",
        "    print(\"Result:\", result, \"\\n\")\n",
        "\n"
      ]
    },
    {
      "cell_type": "code",
      "execution_count": 30,
      "id": "48f9ab2a",
      "metadata": {},
      "outputs": [
        {
          "name": "stdout",
          "output_type": "stream",
          "text": [
            "Agent decided to use 'summarize'\n",
            "Result: CallToolResult(content=[TextContent(type='text', text='{\"rows\":10,\"columns\":[\"order_id\",\"region\",\"sales\",\"quarter\",\"rep\"],\"numeric_stats\":{\"order_id\":{\"count\":10.0,\"unique\":\"\",\"top\":\"\",\"freq\":\"\",\"mean\":105.5,\"std\":3.0276503540974917,\"min\":101.0,\"25%\":103.25,\"50%\":105.5,\"75%\":107.75,\"max\":110.0},\"region\":{\"count\":10,\"unique\":4,\"top\":\"West\",\"freq\":4,\"mean\":\"\",\"std\":\"\",\"min\":\"\",\"25%\":\"\",\"50%\":\"\",\"75%\":\"\",\"max\":\"\"},\"sales\":{\"count\":10.0,\"unique\":\"\",\"top\":\"\",\"freq\":\"\",\"mean\":1235.0,\"std\":536.4751210965477,\"min\":600.0,\"25%\":825.0,\"50%\":1175.0,\"75%\":1450.0,\"max\":2200.0},\"quarter\":{\"count\":10,\"unique\":4,\"top\":\"Q1\",\"freq\":3,\"mean\":\"\",\"std\":\"\",\"min\":\"\",\"25%\":\"\",\"50%\":\"\",\"75%\":\"\",\"max\":\"\"},\"rep\":{\"count\":10,\"unique\":10,\"top\":\"Alex\",\"freq\":1,\"mean\":\"\",\"std\":\"\",\"min\":\"\",\"25%\":\"\",\"50%\":\"\",\"75%\":\"\",\"max\":\"\"}}}', annotations=None, meta=None)], structured_content={'rows': 10, 'columns': ['order_id', 'region', 'sales', 'quarter', 'rep'], 'numeric_stats': {'order_id': {'count': 10.0, 'unique': '', 'top': '', 'freq': '', 'mean': 105.5, 'std': 3.0276503540974917, 'min': 101.0, '25%': 103.25, '50%': 105.5, '75%': 107.75, 'max': 110.0}, 'region': {'count': 10, 'unique': 4, 'top': 'West', 'freq': 4, 'mean': '', 'std': '', 'min': '', '25%': '', '50%': '', '75%': '', 'max': ''}, 'sales': {'count': 10.0, 'unique': '', 'top': '', 'freq': '', 'mean': 1235.0, 'std': 536.4751210965477, 'min': 600.0, '25%': 825.0, '50%': 1175.0, '75%': 1450.0, 'max': 2200.0}, 'quarter': {'count': 10, 'unique': 4, 'top': 'Q1', 'freq': 3, 'mean': '', 'std': '', 'min': '', '25%': '', '50%': '', '75%': '', 'max': ''}, 'rep': {'count': 10, 'unique': 10, 'top': 'Alex', 'freq': 1, 'mean': '', 'std': '', 'min': '', '25%': '', '50%': '', '75%': '', 'max': ''}}}, data={'rows': 10, 'columns': ['order_id', 'region', 'sales', 'quarter', 'rep'], 'numeric_stats': {'order_id': {'count': 10.0, 'unique': '', 'top': '', 'freq': '', 'mean': 105.5, 'std': 3.0276503540974917, 'min': 101.0, '25%': 103.25, '50%': 105.5, '75%': 107.75, 'max': 110.0}, 'region': {'count': 10, 'unique': 4, 'top': 'West', 'freq': 4, 'mean': '', 'std': '', 'min': '', '25%': '', '50%': '', '75%': '', 'max': ''}, 'sales': {'count': 10.0, 'unique': '', 'top': '', 'freq': '', 'mean': 1235.0, 'std': 536.4751210965477, 'min': 600.0, '25%': 825.0, '50%': 1175.0, '75%': 1450.0, 'max': 2200.0}, 'quarter': {'count': 10, 'unique': 4, 'top': 'Q1', 'freq': 3, 'mean': '', 'std': '', 'min': '', '25%': '', '50%': '', '75%': '', 'max': ''}, 'rep': {'count': 10, 'unique': 10, 'top': 'Alex', 'freq': 1, 'mean': '', 'std': '', 'min': '', '25%': '', '50%': '', '75%': '', 'max': ''}}}, is_error=False) \n",
            "\n",
            "Agent decided to use 'query'\n",
            "Result: CallToolResult(content=[TextContent(type='text', text='{\"count\":2,\"rows\":[{\"order_id\":107,\"region\":\"West\",\"sales\":2000,\"quarter\":\"Q3\",\"rep\":\"Gale\"},{\"order_id\":110,\"region\":\"West\",\"sales\":2200,\"quarter\":\"Q4\",\"rep\":\"Jules\"}]}', annotations=None, meta=None)], structured_content={'count': 2, 'rows': [{'order_id': 107, 'region': 'West', 'sales': 2000, 'quarter': 'Q3', 'rep': 'Gale'}, {'order_id': 110, 'region': 'West', 'sales': 2200, 'quarter': 'Q4', 'rep': 'Jules'}]}, data={'count': 2, 'rows': [{'order_id': 107, 'region': 'West', 'sales': 2000, 'quarter': 'Q3', 'rep': 'Gale'}, {'order_id': 110, 'region': 'West', 'sales': 2200, 'quarter': 'Q4', 'rep': 'Jules'}]}, is_error=False) \n",
            "\n"
          ]
        }
      ],
      "source": [
        "# create a connection to your MCP server\n",
        "transport = PythonStdioTransport(\"mcp_server_fastmcp.py\")\n",
        "\n",
        "async with Client(transport) as client:\n",
        "    await run_agent(\"Give me a summary of the dataset\", client)\n",
        "    await run_agent(\"Show West region sales > 1500\", client)"
      ]
    },
    {
      "cell_type": "markdown",
      "id": "92a2f851",
      "metadata": {},
      "source": [
        "---\n",
        "##  Architecture Recap\n",
        "```\n",
        "+--------------------+      JSON-RPC (MCP)      +--------------------+\n",
        "|  Host / AI Agent   |  <-------------------->  | fastmcp MCP Server |\n",
        "| (LLM or Router)    |                        | (summarize, query)  |\n",
        "+--------------------+                         +--------------------+\n",
        "```\n",
        "---"
      ]
    },
    {
      "cell_type": "markdown",
      "id": "b17089cc",
      "metadata": {},
      "source": []
    }
  ],
  "metadata": {
    "kernelspec": {
      "display_name": ".venv",
      "language": "python",
      "name": "python3"
    },
    "language_info": {
      "codemirror_mode": {
        "name": "ipython",
        "version": 3
      },
      "file_extension": ".py",
      "mimetype": "text/x-python",
      "name": "python",
      "nbconvert_exporter": "python",
      "pygments_lexer": "ipython3",
      "version": "3.13.5"
    }
  },
  "nbformat": 4,
  "nbformat_minor": 5
}
