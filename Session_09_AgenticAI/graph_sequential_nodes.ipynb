{
 "cells": [
  {
   "cell_type": "code",
   "execution_count": null,
   "id": "41dce81f",
   "metadata": {},
   "outputs": [],
   "source": [
    "# python -m venv .venv\n",
    "# source .venv/bin/activate  # On Windows, use `.venv\\Scripts\\activate`\n",
    "%pip install langgraph"
   ]
  },
  {
   "cell_type": "markdown",
   "id": "17b26a84",
   "metadata": {},
   "source": [
    "### Build a simple sequential graph using Langgraph"
   ]
  },
  {
   "cell_type": "code",
   "execution_count": 15,
   "id": "c1f19701",
   "metadata": {},
   "outputs": [],
   "source": [
    "from langgraph.graph import StateGraph, START, END"
   ]
  },
  {
   "cell_type": "code",
   "execution_count": 16,
   "id": "c283353a",
   "metadata": {},
   "outputs": [],
   "source": [
    "def node_a_tool(dict):\n",
    "    # Simulate some processing\n",
    "    # Do something useful here\n",
    "    print(\"Agent A is running\")\n",
    "    return {}\n",
    "\n",
    "def node_b_tool(dict):\n",
    "    # Simulate some processing\n",
    "    # Do something useful here\n",
    "    print(\"Agent B is running\")\n",
    "    return {}\n",
    "\n",
    "builder = StateGraph(dict)\n",
    "builder.add_node(\"Agent_A\", node_a_tool)\n",
    "builder.add_node(\"Agent_B\", node_b_tool)\n",
    "\n",
    "builder.add_edge(START, \"Agent_A\")\n",
    "builder.add_edge(\"Agent_A\", \"Agent_B\")\n",
    "builder.add_edge(\"Agent_B\", END)\n",
    "\n",
    "\n",
    "graph = builder.compile()\n"
   ]
  },
  {
   "cell_type": "code",
   "execution_count": null,
   "id": "fe800737",
   "metadata": {},
   "outputs": [],
   "source": [
    "%pip install grandalf"
   ]
  },
  {
   "cell_type": "code",
   "execution_count": 18,
   "id": "60e786fe",
   "metadata": {},
   "outputs": [
    {
     "name": "stdout",
     "output_type": "stream",
     "text": [
      "+-----------+  \n",
      "| __start__ |  \n",
      "+-----------+  \n",
      "      *        \n",
      "      *        \n",
      "      *        \n",
      " +---------+   \n",
      " | Agent_A |   \n",
      " +---------+   \n",
      "      *        \n",
      "      *        \n",
      "      *        \n",
      " +---------+   \n",
      " | Agent_B |   \n",
      " +---------+   \n",
      "      *        \n",
      "      *        \n",
      "      *        \n",
      " +---------+   \n",
      " | __end__ |   \n",
      " +---------+   \n"
     ]
    }
   ],
   "source": [
    "\n",
    "# --- Display as ASCII ---\n",
    "print(graph.get_graph().draw_ascii())\n"
   ]
  },
  {
   "cell_type": "code",
   "execution_count": 19,
   "id": "6b0599fa",
   "metadata": {},
   "outputs": [
    {
     "name": "stdout",
     "output_type": "stream",
     "text": [
      "Agent A is running\n",
      "Agent B is running\n"
     ]
    },
    {
     "data": {
      "text/plain": [
       "{}"
      ]
     },
     "execution_count": 19,
     "metadata": {},
     "output_type": "execute_result"
    }
   ],
   "source": [
    "initial_state = {}\n",
    "graph.invoke(initial_state)\n"
   ]
  }
 ],
 "metadata": {
  "kernelspec": {
   "display_name": ".venv",
   "language": "python",
   "name": "python3"
  },
  "language_info": {
   "codemirror_mode": {
    "name": "ipython",
    "version": 3
   },
   "file_extension": ".py",
   "mimetype": "text/x-python",
   "name": "python",
   "nbconvert_exporter": "python",
   "pygments_lexer": "ipython3",
   "version": "3.13.5"
  }
 },
 "nbformat": 4,
 "nbformat_minor": 5
}
